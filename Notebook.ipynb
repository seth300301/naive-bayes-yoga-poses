{
 "cells": [
  {
   "cell_type": "markdown",
   "metadata": {},
   "source": [
    "# Pose Classification with a Naive Bayes Model made from Scratch\n"
   ]
  },
  {
   "cell_type": "code",
   "execution_count": 20,
   "metadata": {},
   "outputs": [],
   "source": [
    "import numpy as np \n",
    "import math\n",
    "from collections import defaultdict\n",
    "import pandas as pd"
   ]
  },
  {
   "cell_type": "code",
   "execution_count": 21,
   "metadata": {},
   "outputs": [],
   "source": [
    "def preprocess(filename, class_num, values, labels):\n",
    "    with open(filename, mode = 'r') as fin:\n",
    "        for line in fin:\n",
    "            atts = line.strip().split(\",\")\n",
    "            values.append(atts[1:])       # 11 x & 11 y values\n",
    "            labels.append(atts[0])        # ground truth labels\n",
    "            class_num[atts[0]] += 1       # no. of instances per class"
   ]
  },
  {
   "cell_type": "code",
   "execution_count": 22,
   "metadata": {},
   "outputs": [],
   "source": [
    "# calculates prior probabilities and likelihoods from the training data and uses them to build a naive Bayes model\n",
    "def train(class_num, values, labels, mean_set, sd_set, log_prior_set):\n",
    "    \n",
    "    valid_class_num = defaultdict(int)\n",
    "    total_class_num = 0\n",
    "    \n",
    "    for class_label in class_num:\n",
    "        total_class_num += class_num[class_label]                  # total no. of instances\n",
    "        for j in range(len(values[0])):\n",
    "            key = str(class_label) + ' attribute ' + str(j + 1)    # e.g. bridge attribute 1, bridge attribute 2,...\n",
    "            valid_class_num[key] = class_num[class_label]          # assign no. of instances per class x attribute pairing\n",
    "        \n",
    "    for i in range(len(labels)):\n",
    "        for j in range(len(values[0])):\n",
    "            key = str(labels[i]) + ' attribute ' + str(j + 1)\n",
    "            if (float(values[i][j]) != float(9999)):\n",
    "                if (mean_set[key] == None):\n",
    "                    mean_set[key] = 0\n",
    "                mean_set[key] += float(values[i][j])    # sum up non-missing attribute values\n",
    "            else:\n",
    "                if (key not in mean_set):\n",
    "                    mean_set[key] = None\n",
    "                valid_class_num[key] -= 1               # deduct no. of valid instances per class x attribute pairing \n",
    "                                                        # for missing values\n",
    "    for key in mean_set.keys():\n",
    "        mean_set[key] = (mean_set[key]/valid_class_num[key])       # take mean of the sum\n",
    "        \n",
    "    for i in range(len(labels)):\n",
    "        for j in range(len(values[0])):\n",
    "            key = str(labels[i]) + ' attribute ' + str(j + 1)\n",
    "            if (float(values[i][j]) != float(9999)):\n",
    "                if (sd_set[key] == None):\n",
    "                    sd_set[key] = 0\n",
    "                sd_set[key] += (float(values[i][j]) - mean_set[key])**2    # sum up square of residuals of\n",
    "            else:                                                          # non-missing values - mean\n",
    "                if (key not in sd_set):\n",
    "                    sd_set[key] = None\n",
    "    \n",
    "    for key in sd_set.keys():\n",
    "        sd_set[key] = math.sqrt(sd_set[key]/(valid_class_num[key] - 1))    # take sd of the residuals\n",
    "        \n",
    "    for key,value in class_num.items():\n",
    "        log_prior_set[key] = math.log(value/total_class_num)"
   ]
  },
  {
   "cell_type": "code",
   "execution_count": 23,
   "metadata": {},
   "outputs": [],
   "source": [
    "# gaussian log likelihood pdf\n",
    "def gaussian(mean,sd,x):\n",
    "    inside = (1 /(sd * (math.sqrt(2 * math.pi)))) * math.exp(-0.5*((x - mean)/sd)**2)     # Gaussian pdf\n",
    "    if inside == 0:\n",
    "        inside = np.finfo(float).eps            # replace pdfs that equal to 0 with epsilon\n",
    "    return math.log(inside)                     # return log likelihood"
   ]
  },
  {
   "cell_type": "code",
   "execution_count": 24,
   "metadata": {
    "scrolled": false
   },
   "outputs": [],
   "source": [
    "# predicts classes for new items in a test dataset\n",
    "def predict(mean_set, sd_set, log_prior_set, test_value):\n",
    "    \n",
    "    log_likelihood_set = defaultdict(float)\n",
    "    classifier_set = defaultdict(float)\n",
    "    \n",
    "    for label in log_prior_set.keys():\n",
    "        index = 0\n",
    "        for att in mean_set.keys():\n",
    "            if (att.startswith(label)):                         # e.g. if \"bridge attribute 1\" starts with \"bridge\"\n",
    "                if (float(test_value[index]) != float(9999)):   # sum up log likelihoods of non-missing values\n",
    "                    log_likelihood_set[label] += gaussian(float(mean_set[att]), float(sd_set[att]), float(test_value[index]))\n",
    "                index += 1\n",
    "        \n",
    "    for key in log_prior_set.keys():\n",
    "        classifier_set[key] = log_likelihood_set[key] + log_prior_set[key]    # add up log likelihoods and log priors\n",
    "        \n",
    "    top_predict_class = list(classifier_set)[0]\n",
    "    top_predict_value = classifier_set[top_predict_class]\n",
    "    for key in classifier_set:\n",
    "        if (classifier_set[key] > top_predict_value):      # finding class with the max log likelihood + log prior\n",
    "            top_predict_class = key\n",
    "            top_predict_value = classifier_set[key]\n",
    "        \n",
    "    return top_predict_class"
   ]
  },
  {
   "cell_type": "code",
   "execution_count": 25,
   "metadata": {},
   "outputs": [],
   "source": [
    "# evaluates the prediction performance by comparing model’s class outputs to ground truth labels\n",
    "def evaluate(mean_set, sd_set, log_prior_set, test_values, test_labels):\n",
    "    \n",
    "    true_positives = 0\n",
    "    total = len(test_values)\n",
    "    \n",
    "    for i in range(len(test_values)):\n",
    "        if (predict(mean_set, sd_set, log_prior_set, test_values[i]) == test_labels[i]):\n",
    "            true_positives += 1\n",
    "    \n",
    "    result = \"Accuracy is: \" + str(true_positives/total)\n",
    "    \n",
    "    return result"
   ]
  },
  {
   "cell_type": "code",
   "execution_count": 26,
   "metadata": {},
   "outputs": [
    {
     "data": {
      "text/plain": [
       "'Accuracy is: 0.7155172413793104'"
      ]
     },
     "execution_count": 26,
     "metadata": {},
     "output_type": "execute_result"
    }
   ],
   "source": [
    "train_nums = defaultdict(int)\n",
    "train_values = []\n",
    "train_labels = []\n",
    "preprocess(\"train.csv\", train_nums, train_values, train_labels)\n",
    "test_nums = defaultdict(int)\n",
    "test_values = []\n",
    "test_labels = []\n",
    "preprocess(\"test.csv\", test_nums, test_values, test_labels)\n",
    "\n",
    "train_mean_set = defaultdict(float)\n",
    "train_sd_set = defaultdict(float)\n",
    "train_log_prior_set = defaultdict(float)\n",
    "train(train_nums, train_values, train_labels, train_mean_set, train_sd_set, train_log_prior_set)\n",
    "\n",
    "evaluate(train_mean_set, train_sd_set, train_log_prior_set, test_values, test_labels)"
   ]
  },
  {
   "cell_type": "markdown",
   "metadata": {},
   "source": [
    "### Q1\n",
    "Since this is a multiclass classification problem, there are multiple ways to compute precision, recall, and F-score for this classifier. Implement at least two of the methods from the \"Model Evaluation\" lecture and discuss any differences between them. (The implementation should be your own and should not just call a pre-existing function.)"
   ]
  },
  {
   "cell_type": "code",
   "execution_count": 27,
   "metadata": {},
   "outputs": [],
   "source": [
    "def evaluate2(mean_set, sd_set, log_prior_set, test_values, test_labels, test_nums):\n",
    "    \n",
    "    class_true_positives = defaultdict(int)\n",
    "    class_false_positives = defaultdict(int)\n",
    "    class_false_negatives = defaultdict(int)\n",
    "    total = len(test_values)\n",
    "    \n",
    "    for key in log_prior_set.keys(): # calculates tps, fps, and, fns for each class in a one vs. rest multiclass evaluation\n",
    "        class_true_positives[key] = 0\n",
    "        class_false_positives[key] = 0\n",
    "        class_false_negatives[key] = 0\n",
    "        for i in range(len(test_values)):\n",
    "            if ((predict(mean_set, sd_set, log_prior_set, test_values[i]) == key) and (test_labels[i] != key)):\n",
    "                class_false_positives[key] += 1\n",
    "            elif ((predict(mean_set, sd_set, log_prior_set, test_values[i]) != key) and (test_labels[i] == key)):\n",
    "                class_false_negatives[key] += 1\n",
    "            elif ((predict(mean_set, sd_set, log_prior_set, test_values[i]) == key) and (test_labels[i] == key)):\n",
    "                class_true_positives[key] += 1\n",
    "    \n",
    "    class_precision = defaultdict(float)\n",
    "    class_recall = defaultdict(float)\n",
    "    \n",
    "    for key,value in class_true_positives.items(): # calculates precision and recall for each class\n",
    "        class_precision[key] = (value/(value + class_false_positives[key]))\n",
    "        class_recall[key] = (value/(value + class_false_negatives[key]))\n",
    "        \n",
    "    p = \"precision\"\n",
    "    r = \"recall\"\n",
    "    \n",
    "    macro_avg = {p: 0.0, r: 0.0} # adds precision and recall values before dividing by total no. of classes\n",
    "    weighted_avg = {p: 0.0, r: 0.0} # multiply precision and recall with the proportion of the classes before adding them\n",
    "    \n",
    "    for key,value in class_precision.items():\n",
    "        macro_avg[p] += value\n",
    "        weighted_avg[p] += ((test_nums[key]/total)*value)\n",
    "    \n",
    "    for key,value in class_recall.items():\n",
    "        macro_avg[r] += value\n",
    "        weighted_avg[r] += ((test_nums[key]/total)*value)\n",
    "    \n",
    "    for key in macro_avg.keys(): # divides precision and recall added values by total no. of classes\n",
    "        macro_avg[key] = macro_avg[key]/len(log_prior_set)\n",
    "    \n",
    "    # F-score here uses beta value 1 (2*P*R/(P + R))\n",
    "    macro_avg[\"F-score\"] = ((2*macro_avg[p]*macro_avg[r])/(macro_avg[p] + macro_avg[r]))\n",
    "    weighted_avg[\"F-score\"] = ((2*weighted_avg[p]*weighted_avg[r])/(weighted_avg[p] + weighted_avg[r]))\n",
    "    \n",
    "    print(\"Macro-Averaging: \" + str(macro_avg) + \"\\nWeighted-Averaging: \" + str(weighted_avg))"
   ]
  },
  {
   "cell_type": "code",
   "execution_count": 28,
   "metadata": {},
   "outputs": [
    {
     "name": "stdout",
     "output_type": "stream",
     "text": [
      "Macro-Averaging: {'precision': 0.6975877192982457, 'recall': 0.7078296703296703, 'F-score': 0.7026713758076242}\n",
      "Weighted-Averaging: {'precision': 0.7261897559991934, 'recall': 0.7155172413793102, 'F-score': 0.7208139960134242}\n"
     ]
    }
   ],
   "source": [
    "evaluate2(train_mean_set, train_sd_set, train_log_prior_set, test_values, test_labels, test_nums)"
   ]
  },
  {
   "cell_type": "markdown",
   "metadata": {},
   "source": [
    "# Q2\n",
    "The Gaussian naıve Bayes classifier assumes that numeric attributes come from a Gaussian distribution. Is this assumption always true for the numeric attributes in this dataset? Identify some cases where the Gaussian assumption is violated and describe any evidence (or lack thereof) that this has some effect on the classifier’s predictions."
   ]
  },
  {
   "cell_type": "code",
   "execution_count": 8,
   "metadata": {
    "scrolled": true
   },
   "outputs": [
    {
     "data": {
      "image/png": "[encoded data removed]",
      "text/plain": [
       "<Figure size 432x288 with 1 Axes>"
      ]
     },
     "metadata": {
      "needs_background": "light"
     },
     "output_type": "display_data"
    }
   ],
   "source": [
    "#Box 1\n",
    "data = pd.read_csv('train.csv', sep=',',header=None, index_col =0)\n",
    "column1 = data.iloc[:,3]\n",
    "length = round(len(column1)/2)\n",
    "graph1 = column1.plot.hist(bins = length, xlim = (-600,600), ylim = (0,250)).get_figure()\n",
    "graph1.savefig(\"x4, wristR\")"
   ]
  },
  {
   "cell_type": "code",
   "execution_count": 9,
   "metadata": {},
   "outputs": [
    {
     "data": {
      "image/png": "[encoded data removed]",
      "text/plain": [
       "<Figure size 432x288 with 1 Axes>"
      ]
     },
     "metadata": {
      "needs_background": "light"
     },
     "output_type": "display_data"
    }
   ],
   "source": [
    "#Box 2\n",
    "column2 = data.iloc[:,9]\n",
    "length2 = round(len(column2)/2)\n",
    "graph2 = column2.plot.hist(bins = length2, xlim = (-600,600), ylim = (0,250)).get_figure()\n",
    "graph2.savefig(\"x10, kneeL\")"
   ]
  },
  {
   "cell_type": "code",
   "execution_count": 10,
   "metadata": {},
   "outputs": [
    {
     "data": {
      "image/png": "[encoded data removed]",
      "text/plain": [
       "<Figure size 432x288 with 1 Axes>"
      ]
     },
     "metadata": {
      "needs_background": "light"
     },
     "output_type": "display_data"
    }
   ],
   "source": [
    "#Box 3\n",
    "column3 = data.iloc[:,15]\n",
    "length3 = round(len(column3)/2)\n",
    "graph3 = column3.plot.hist(bins = length3, xlim = (-600,600), ylim = (0,250)).get_figure()\n",
    "graph3.savefig(\"y5, elbowL\")"
   ]
  },
  {
   "cell_type": "code",
   "execution_count": 11,
   "metadata": {},
   "outputs": [
    {
     "data": {
      "image/png": "[encoded data removed]",
      "text/plain": [
       "<Figure size 432x288 with 1 Axes>"
      ]
     },
     "metadata": {
      "needs_background": "light"
     },
     "output_type": "display_data"
    }
   ],
   "source": [
    "#Box 4\n",
    "column4 = data.iloc[:,11]\n",
    "length4 = round(len(column4)/2)\n",
    "graph4 = column4.plot.hist(bins = length4, xlim = (-600,600), ylim = (0,250)).get_figure()\n",
    "graph4.savefig(\"y1, head\")"
   ]
  },
  {
   "cell_type": "code",
   "execution_count": 12,
   "metadata": {},
   "outputs": [
    {
     "data": {
      "image/png": "[encoded data removed]",
      "text/plain": [
       "<Figure size 432x288 with 1 Axes>"
      ]
     },
     "metadata": {
      "needs_background": "light"
     },
     "output_type": "display_data"
    }
   ],
   "source": [
    "#Box 5\n",
    "column5 = data.iloc[:,7]\n",
    "length5 = round(len(column5)/2)\n",
    "graph5 = column5.plot.hist(bins = length5, xlim = (-600,600), ylim = (0,250)).get_figure()\n",
    "graph5.savefig(\"x8, kneeR\")\n"
   ]
  },
  {
   "cell_type": "markdown",
   "metadata": {},
   "source": [
    "### Q3\n",
    "Implement a kernel density estimate (KDE) naive Bayes classifier and compare its performance to the Gaussian naive Bayes classifier. Recall that KDE has kernel bandwidth as a free parameter -- you can choose an arbitrary value for this, but a value in the range 5-25 is recommended. Discuss any differences you observe between the Gaussian and KDE naive Bayes classifiers. (As with the Gaussian naive Bayes, this KDE naive Bayes implementation should be your own and should not just call a pre-existing function.)"
   ]
  },
  {
   "cell_type": "code",
   "execution_count": 29,
   "metadata": {},
   "outputs": [],
   "source": [
    "def KDE_gaussian(mean,sd,x):                    # gaussian likelihood pdf used in \n",
    "    inside = (1 /(sd * (math.sqrt(2 * math.pi)))) * math.exp(-0.5*((x - mean)/sd)**2)     # Gaussian pdf\n",
    "    if inside == 0:\n",
    "        inside = np.finfo(float).eps            # replace pdfs that equal to 0 with epsilon\n",
    "    return inside                               # return likelihood"
   ]
  },
  {
   "cell_type": "code",
   "execution_count": 30,
   "metadata": {},
   "outputs": [],
   "source": [
    "def KDE_predict(values, labels, mean_set, log_prior_set, test_value, sd):\n",
    "    \n",
    "    valid_class_att_nums = defaultdict(int)\n",
    "    KDE_class_att_likelihood_set = defaultdict(float)\n",
    "    log_KDE_likelihood_set = defaultdict(float)\n",
    "    classifier_set = defaultdict(float)\n",
    "    \n",
    "    index = 0\n",
    "    for att in mean_set.keys():                  # e.g. 'bridge attribute 1'\n",
    "        for i in range(len(values)):             # length of training set\n",
    "            if (att.startswith(labels[i])):      # e.g. 'bridge attribute 1' starts with 'bridge'\n",
    "                if (float(values[i][index]) != float(9999)):       # calculates no. of valid instances per class attribute in training set\n",
    "                    valid_class_att_nums[att] += 1\n",
    "                    if (float(test_value[index]) != float(9999)):  # adds up test instance values of class attribute that are non-missing\n",
    "                        # uses mean 0, an assigned sd, & the residual between the class attribute values of the test instance & every train instance\n",
    "                        KDE_class_att_likelihood_set[att] += KDE_gaussian(0, sd, float(test_value[index]) - float(values[i][index]))\n",
    "        if (index == 21): # refreshes the index of the 22 attributes for each class\n",
    "            index = 0\n",
    "        else:\n",
    "            index += 1\n",
    "            \n",
    "    for att in KDE_class_att_likelihood_set.keys(): # divides the sum by the no. of valid class attribute instances in training set\n",
    "        KDE_class_att_likelihood_set[att] = KDE_class_att_likelihood_set[att]/valid_class_att_nums[att]\n",
    "        \n",
    "    for label in log_prior_set.keys():\n",
    "        index = 0\n",
    "        for att in KDE_class_att_likelihood_set.keys(): # calculates log KDE likelihood of each class\n",
    "            if (att.startswith(label)):\n",
    "                log_KDE_likelihood_set[label] += math.log(KDE_class_att_likelihood_set[att])\n",
    "            index += 1\n",
    "        \n",
    "    for key in log_prior_set.keys(): # add up log likelihoods and log priors\n",
    "        classifier_set[key] = log_KDE_likelihood_set[key] + log_prior_set[key]\n",
    "        \n",
    "    top_predict_class = list(classifier_set)[0]\n",
    "    top_predict_value = classifier_set[top_predict_class]\n",
    "    for key in classifier_set:\n",
    "        if (classifier_set[key] > top_predict_value): # finding class with the max log likelihood + log prior\n",
    "            top_predict_class = key\n",
    "            top_predict_value = classifier_set[key]\n",
    "        \n",
    "    return top_predict_class"
   ]
  },
  {
   "cell_type": "code",
   "execution_count": 31,
   "metadata": {},
   "outputs": [],
   "source": [
    "def KDE_evaluate(values, labels, mean_set, log_prior_set, test_values, test_labels, sd):\n",
    "    \n",
    "    true_positives = 0\n",
    "    total = len(test_values)\n",
    "    \n",
    "    for i in range(len(test_values)):\n",
    "        if ((KDE_predict(values, labels, mean_set, log_prior_set, test_values[i], sd)) == test_labels[i]):\n",
    "            true_positives += 1\n",
    "    \n",
    "    result = \"Accuracy is: \" + str(true_positives/total)\n",
    "    \n",
    "    return result"
   ]
  },
  {
   "cell_type": "code",
   "execution_count": 32,
   "metadata": {},
   "outputs": [
    {
     "data": {
      "text/plain": [
       "'Accuracy is: 0.7758620689655172'"
      ]
     },
     "execution_count": 32,
     "metadata": {},
     "output_type": "execute_result"
    }
   ],
   "source": [
    "# we just used kernel value of 10 here arbitrarily\n",
    "KDE_evaluate(train_values, train_labels, train_mean_set, train_log_prior_set, test_values, test_labels, 10)"
   ]
  },
  {
   "cell_type": "markdown",
   "metadata": {},
   "source": [
    "### Q4\n",
    "Instead of using an arbitrary kernel bandwidth for the KDE naive Bayes classifier, use random hold-out or cross-validation to choose the kernel bandwidth. Discuss how this changes the model performance compared to using an arbitrary kernel bandwidth."
   ]
  },
  {
   "cell_type": "code",
   "execution_count": 18,
   "metadata": {},
   "outputs": [],
   "source": [
    "# This function calculates prior probabilities \n",
    "  \n",
    "def kernal_train(class_num, values, labels, log_prior_set):\n",
    "    \n",
    "    valid_class_num = defaultdict(int)\n",
    "    total_class_num = 0\n",
    "    \n",
    "    # initialises the dictionary that will eventually contain valid classes\n",
    "    for class_label in class_num:\n",
    "        total_class_num += class_num[class_label]\n",
    "        for j in range(len(values[0])):\n",
    "            key = str(class_label) + ' attribute ' + str(j + 1)\n",
    "            valid_class_num[key] = class_num[class_label]\n",
    "    \n",
    "    # obtains the number of valid classes (non-9999 classes)\n",
    "    for i in range(len(labels)):\n",
    "        for j in range(len(values[0])):\n",
    "            key = str(labels[i]) + ' attribute ' + str(j + 1)\n",
    "            if (float(values[i][j]) == float(9999)):\n",
    "                valid_class_num[key] -= 1\n",
    "    \n",
    "    # calculates the prior probabilites for each class\n",
    "    for key,value in class_num.items():\n",
    "        log_prior_set[key] = math.log(value/total_class_num)"
   ]
  },
  {
   "cell_type": "code",
   "execution_count": null,
   "metadata": {},
   "outputs": [],
   "source": [
    "def cross_validation(file, partitions_values, partitions_labels, train_mean_set):\n",
    "    \n",
    "    # initialises the dictionaries with empty lists\n",
    "    values = []\n",
    "    labels = []\n",
    "    for i in range(10):\n",
    "        key = 'partition ' + str(i+1)\n",
    "        partitions_values[key] = []\n",
    "        partitions_labels[key] = []\n",
    "    \n",
    "    # reads the csv file into a dataframe\n",
    "    df = pd.read_csv('train.csv', header=None)\n",
    "    ds = df.sample(frac=1)    # randomly shuffles the rows of the dataframe (randomises the data)\n",
    "    for line in ds.values:\n",
    "        values.append(line[1:])    # stores only the values of the entire dataset\n",
    "        labels.append(line[0])    # stores only the classes of each row in the dataset\n",
    "        \n",
    "    partition_num = 1\n",
    "    count = 0\n",
    "    \n",
    "    # creates 10 partitions from the data set, where 9 partitions has 75 instances and 1 partition has 72 instances\n",
    "    for i in range(len(values)):\n",
    "        key = 'partition ' + str(partition_num)\n",
    "        partitions_values[key].append(values[i]) \n",
    "        partitions_labels[key].append(labels[i])\n",
    "        \n",
    "        if count == 74:\n",
    "            partition_num += 1\n",
    "            count = -1\n",
    "        count += 1\n",
    "    \n",
    "    # iterates over each partition\n",
    "    accuracy_sd_set = defaultdict(float)\n",
    "    for i in range(10):   \n",
    "        test_key = 'partition ' + str(i+1)    # stores the test key\n",
    "        test_values = partitions_values[test_key]    # stores the test set values\n",
    "        test_labels = partitions_labels[test_key]    # stores the test set labels\n",
    "        train_values = []\n",
    "        train_labels = []\n",
    "        train_class_num = defaultdict(int)\n",
    "        train_log_prior_set = defaultdict(float)    \n",
    "        \n",
    "        # to get training values and labels\n",
    "        for j in range(10):\n",
    "            train_key = 'partition ' + str(j+1)\n",
    "            \n",
    "            if train_key != test_key:\n",
    "                \n",
    "                for line in partitions_values[train_key]:\n",
    "                    train_values.append(line)    # stores training set values\n",
    "                \n",
    "                for line in partitions_labels[train_key]:\n",
    "                    train_labels.append(line)    # stores the training set labels\n",
    "        \n",
    "        # obtains the number of classes \n",
    "        for label in train_labels:\n",
    "            train_class_num[label] += 1\n",
    "          \n",
    "        kernal_train(train_class_num, train_values, train_labels, train_log_prior_set)    #trains the data to obtain prior probabilities\n",
    "        \n",
    "        # iterates through the different kernel banwidths (5 through 25) and adds them to the dictionary\n",
    "        for k in range(5,26):\n",
    "            accuracy_sd_set[k] += float(KDE_evaluate(train_values, train_labels, train_mean_set, train_log_prior_set, test_values, test_labels, k).split(' ')[-1])\n",
    "    \n",
    "    top_kernal = 5\n",
    "    top_kernal_value = accuracy_sd_set[5]\n",
    "    \n",
    "    # obtains the optimal kernel by finding the highest accuracy\n",
    "    for key, value in accuracy_sd_set.items():\n",
    "        if value > top_kernal_value:\n",
    "            top_kernal = key\n",
    "            top_kernal_value = value\n",
    "        \n",
    "    return top_kernal, accuracy_sd_set    # returns the optimal kernel and the accuracy for each kernel"
   ]
  },
  {
   "cell_type": "code",
   "execution_count": null,
   "metadata": {},
   "outputs": [],
   "source": [
    "partitions_values = defaultdict(list)\n",
    "partitions_labels = defaultdict(list)\n",
    "cross_validation('train.csv', partitions_values, partitions_labels, train_mean_set)"
   ]
  }
 ],
 "metadata": {
  "kernelspec": {
   "display_name": "Python 3",
   "language": "python",
   "name": "python3"
  },
  "language_info": {
   "codemirror_mode": {
    "name": "ipython",
    "version": 3
   },
   "file_extension": ".py",
   "mimetype": "text/x-python",
   "name": "python",
   "nbconvert_exporter": "python",
   "pygments_lexer": "ipython3",
   "version": "3.7.9"
  }
 },
 "nbformat": 4,
 "nbformat_minor": 4
}
